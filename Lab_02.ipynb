{
  "nbformat": 4,
  "nbformat_minor": 0,
  "metadata": {
    "colab": {
      "provenance": [],
      "mount_file_id": "1DBrFoNBUCSXjsi9qn90iExAQ_8cq1Op8",
      "authorship_tag": "ABX9TyMwJwU74UMbRpccTKmSyx/7",
      "include_colab_link": true
    },
    "kernelspec": {
      "name": "python3",
      "display_name": "Python 3"
    },
    "language_info": {
      "name": "python"
    }
  },
  "cells": [
    {
      "cell_type": "markdown",
      "metadata": {
        "id": "view-in-github",
        "colab_type": "text"
      },
      "source": [
        "<a href=\"https://colab.research.google.com/github/vivek201102/ML-Labs/blob/master/Lab_02.ipynb\" target=\"_parent\"><img src=\"https://colab.research.google.com/assets/colab-badge.svg\" alt=\"Open In Colab\"/></a>"
      ]
    },
    {
      "cell_type": "code",
      "source": [
        "from google.colab import drive\n",
        "drive.mount('/content/drive')"
      ],
      "metadata": {
        "colab": {
          "base_uri": "https://localhost:8080/"
        },
        "id": "QQjAVEUvD_La",
        "outputId": "52c49924-44b0-4277-fe8a-5b060ef286c8"
      },
      "execution_count": null,
      "outputs": [
        {
          "output_type": "stream",
          "name": "stdout",
          "text": [
            "Drive already mounted at /content/drive; to attempt to forcibly remount, call drive.mount(\"/content/drive\", force_remount=True).\n"
          ]
        }
      ]
    },
    {
      "cell_type": "code",
      "execution_count": null,
      "metadata": {
        "id": "9cDzn4eb3rs_"
      },
      "outputs": [],
      "source": [
        "import numpy as np\n",
        "import pandas as pd\n",
        "from sklearn.preprocessing import MinMaxScaler, StandardScaler, LabelEncoder, OneHotEncoder"
      ]
    },
    {
      "cell_type": "code",
      "source": [
        "df = pd.read_csv(\"/content/drive/MyDrive/Datasets/Data_for_Transformation.csv\")\n",
        "\n",
        "x = df.iloc[:, :-1].values\n",
        "y = df.iloc[:, -1].values\n",
        "\n",
        "# print(x)\n",
        "# print(y)\n",
        "\n",
        "x_new = df.iloc[:, 1:3].values\n",
        "# print(x_new)\n",
        "\n",
        "# Scaling data\n",
        "min_max_scaler = MinMaxScaler()\n",
        "x_scaled = min_max_scaler.fit_transform(x_new)\n",
        "# print(x_scaled)\n",
        "\n",
        "std_scaler = StandardScaler()\n",
        "x_std_scaled = std_scaler.fit_transform(x_new)\n",
        "# print(x_std_scaled)\n",
        "\n",
        "\n",
        "# print(df.describe())\n",
        "\n",
        "# Label Encoder\n",
        "le = LabelEncoder()\n",
        "\n",
        "y_le = le.fit_transform(y)\n",
        "y_class = le.classes_\n",
        "# print(y_le)\n",
        "# print(y_class)\n",
        "\n",
        "\n",
        "x[:, 0] = le.fit_transform(x[:, 0])\n",
        "# print(x)\n",
        "\n",
        "\n",
        "# One Hot Encoding\n",
        "dataset = df\n",
        "dummy = pd.get_dummies(dataset['Country'])\n",
        "dataset = dataset.drop(['Country', 'Purchased'], axis=1)\n",
        "dataset = pd.concat([dummy,dataset], axis=1)\n",
        "print(dataset)\n",
        "\n",
        "\n",
        "onehotencoder = OneHotEncoder()\n",
        "data =  onehotencoder.fit_transform(df.Country.values.reshape(-1,1)).toarray()\n",
        "print(data)\n",
        "\n",
        "dfOneHot = pd.DataFrame(data, columns = [\"Country_\"+str(int(i)) for i in range(df.shape[1]-1)])\n",
        "df1 = pd.concat([df, dfOneHot], axis=1)\n",
        "df1 = df1.drop(['Country'], axis=1)\n",
        "print(df1)"
      ],
      "metadata": {
        "id": "nGkxRX5G4Ntt"
      },
      "execution_count": null,
      "outputs": []
    },
    {
      "cell_type": "code",
      "source": [
        "# Handling missing values\n",
        "import numpy as np\n",
        "import pandas as pd\n",
        "from sklearn.impute import SimpleImputer\n",
        "\n",
        "dataset = pd.read_csv('/content/drive/MyDrive/Datasets/Data_for_Missing_Values.csv')\n",
        "# print(\"Data :\\n\",dataset)\n",
        "# print(\"Data statistics\\n\",dataset.describe())\n",
        "\n",
        "x = dataset.iloc[:, :-1].values\n",
        "y= dataset.iloc[:, -1].values\n",
        "# print(x)\n",
        "# print(y)\n",
        "\n",
        "# Drop null if any one is null\n",
        "dataset.dropna(axis=0,how='any',inplace=True)\n",
        "print(dataset, \"\\n\\n\")\n",
        "\n",
        "# Drop null row if all is null\n",
        "dataset.dropna(axis=0,how='all',inplace=True)\n",
        "print(dataset)"
      ],
      "metadata": {
        "id": "0ePFKmsDERfx"
      },
      "execution_count": null,
      "outputs": []
    },
    {
      "cell_type": "code",
      "source": [
        "updated_df = dataset;\n",
        "updated_df['Age']=updated_df['Age'].fillna(updated_df['Age'].mean())\n",
        "print(updated_df.info())\n",
        "\n",
        "print(\"\\n\\n\\n\\n\")\n",
        "\n",
        "print(dataset)\n",
        "\n",
        "\n",
        "updated_df = dataset;\n",
        "updated_df['Salary']=updated_df['Salary'].fillna(updated_df['Salary'].mean())\n",
        "print(updated_df.info())\n",
        "\n",
        "print(\"\\n\\n\\n\\n\")\n",
        "\n",
        "print(dataset)\n",
        "\n",
        "\n"
      ],
      "metadata": {
        "id": "kAuX1pgIITWB"
      },
      "execution_count": null,
      "outputs": []
    },
    {
      "cell_type": "code",
      "source": [
        "import numpy as np\n",
        "import pandas as pd\n",
        "from sklearn.impute import SimpleImputer\n",
        "new_X = dataset.iloc[:, :-1].values\n",
        "# Only last column\n",
        "new_Y = dataset.iloc[:, -1].values"
      ],
      "metadata": {
        "id": "XIw7NeIvJIJC"
      },
      "execution_count": null,
      "outputs": []
    },
    {
      "cell_type": "code",
      "source": [
        "datasets = pd.read_csv('/content/drive/MyDrive/Datasets/Data_for_Missing_Values.csv')\n",
        "print(\"\\nData :\\n\",datasets)\n",
        "print(\"\\nData statistics\\n\",datasets.describe())\n",
        "\n",
        "X = datasets.iloc[:, :-1].values\n",
        "Y = datasets.iloc[:, -1].values\n",
        "print(\"\\n\\nInput : \\n\", X)\n",
        "print(\"\\n\\nOutput: \\n\", Y)"
      ],
      "metadata": {
        "id": "L8adz78LJQ55"
      },
      "execution_count": null,
      "outputs": []
    },
    {
      "cell_type": "code",
      "source": [
        "datasets.dropna(axis=0,how='all',inplace=True)\n",
        "print(\"\\nNew Data :\",datasets)"
      ],
      "metadata": {
        "id": "noZ6xhNsJpjy"
      },
      "execution_count": null,
      "outputs": []
    },
    {
      "cell_type": "code",
      "source": [
        "# 4b. Imputation (Replacing null values with mean value of that attribute)\n",
        "\n",
        "new_X = datasets.iloc[:, :-1].values\n",
        "new_Y = datasets.iloc[:, -1].values\n",
        "updated_df['Age'].fillna(updated_df['Age'].mean())\n",
        "imputer = SimpleImputer(missing_values = np.nan,strategy = \"mean\")\n",
        "imputer = imputer.fit(new_X[:, 1:3])\n",
        "new_X[:, 1:3] = imputer.transform(new_X[:, 1:3])\n",
        "\n",
        "print(\"\\n\\nNew Input with Mean Value for NaN : \\n\\n\", new_X)"
      ],
      "metadata": {
        "id": "ePMDNAdaJvIT"
      },
      "execution_count": null,
      "outputs": []
    },
    {
      "cell_type": "code",
      "source": [
        "import numpy as np\n",
        "import pandas as pd\n",
        "import seaborn as sns\n",
        "\n",
        "data = pd.read_csv('/content/drive/MyDrive/Datasets/Data_for_Correlation.csv')\n",
        "data.head()\n",
        "\n",
        "data = data.iloc[:,:-1]\n",
        "data.head()\n"
      ],
      "metadata": {
        "id": "UscnsgfbJ5kx"
      },
      "execution_count": null,
      "outputs": []
    },
    {
      "cell_type": "code",
      "source": [
        "data.info()"
      ],
      "metadata": {
        "id": "LxRKyMMQKITY"
      },
      "execution_count": null,
      "outputs": []
    },
    {
      "cell_type": "code",
      "source": [
        "corr = data.corr()\n",
        "corr.head()"
      ],
      "metadata": {
        "colab": {
          "base_uri": "https://localhost:8080/",
          "height": 175
        },
        "id": "RJyiEya4KNMw",
        "outputId": "a7834804-8663-43b6-cb49-4d5ef24e77a5"
      },
      "execution_count": null,
      "outputs": [
        {
          "output_type": "execute_result",
          "data": {
            "text/plain": [
              "          X1        X2        X3        X4\n",
              "X1  1.000000  0.972714  1.000000  0.263266\n",
              "X2  0.972714  1.000000  0.972714  0.163575\n",
              "X3  1.000000  0.972714  1.000000  0.263266\n",
              "X4  0.263266  0.163575  0.263266  1.000000"
            ],
            "text/html": [
              "\n",
              "  <div id=\"df-16e09cb8-ff22-42a9-b932-9b1a63fd7d47\">\n",
              "    <div class=\"colab-df-container\">\n",
              "      <div>\n",
              "<style scoped>\n",
              "    .dataframe tbody tr th:only-of-type {\n",
              "        vertical-align: middle;\n",
              "    }\n",
              "\n",
              "    .dataframe tbody tr th {\n",
              "        vertical-align: top;\n",
              "    }\n",
              "\n",
              "    .dataframe thead th {\n",
              "        text-align: right;\n",
              "    }\n",
              "</style>\n",
              "<table border=\"1\" class=\"dataframe\">\n",
              "  <thead>\n",
              "    <tr style=\"text-align: right;\">\n",
              "      <th></th>\n",
              "      <th>X1</th>\n",
              "      <th>X2</th>\n",
              "      <th>X3</th>\n",
              "      <th>X4</th>\n",
              "    </tr>\n",
              "  </thead>\n",
              "  <tbody>\n",
              "    <tr>\n",
              "      <th>X1</th>\n",
              "      <td>1.000000</td>\n",
              "      <td>0.972714</td>\n",
              "      <td>1.000000</td>\n",
              "      <td>0.263266</td>\n",
              "    </tr>\n",
              "    <tr>\n",
              "      <th>X2</th>\n",
              "      <td>0.972714</td>\n",
              "      <td>1.000000</td>\n",
              "      <td>0.972714</td>\n",
              "      <td>0.163575</td>\n",
              "    </tr>\n",
              "    <tr>\n",
              "      <th>X3</th>\n",
              "      <td>1.000000</td>\n",
              "      <td>0.972714</td>\n",
              "      <td>1.000000</td>\n",
              "      <td>0.263266</td>\n",
              "    </tr>\n",
              "    <tr>\n",
              "      <th>X4</th>\n",
              "      <td>0.263266</td>\n",
              "      <td>0.163575</td>\n",
              "      <td>0.263266</td>\n",
              "      <td>1.000000</td>\n",
              "    </tr>\n",
              "  </tbody>\n",
              "</table>\n",
              "</div>\n",
              "      <button class=\"colab-df-convert\" onclick=\"convertToInteractive('df-16e09cb8-ff22-42a9-b932-9b1a63fd7d47')\"\n",
              "              title=\"Convert this dataframe to an interactive table.\"\n",
              "              style=\"display:none;\">\n",
              "        \n",
              "  <svg xmlns=\"http://www.w3.org/2000/svg\" height=\"24px\"viewBox=\"0 0 24 24\"\n",
              "       width=\"24px\">\n",
              "    <path d=\"M0 0h24v24H0V0z\" fill=\"none\"/>\n",
              "    <path d=\"M18.56 5.44l.94 2.06.94-2.06 2.06-.94-2.06-.94-.94-2.06-.94 2.06-2.06.94zm-11 1L8.5 8.5l.94-2.06 2.06-.94-2.06-.94L8.5 2.5l-.94 2.06-2.06.94zm10 10l.94 2.06.94-2.06 2.06-.94-2.06-.94-.94-2.06-.94 2.06-2.06.94z\"/><path d=\"M17.41 7.96l-1.37-1.37c-.4-.4-.92-.59-1.43-.59-.52 0-1.04.2-1.43.59L10.3 9.45l-7.72 7.72c-.78.78-.78 2.05 0 2.83L4 21.41c.39.39.9.59 1.41.59.51 0 1.02-.2 1.41-.59l7.78-7.78 2.81-2.81c.8-.78.8-2.07 0-2.86zM5.41 20L4 18.59l7.72-7.72 1.47 1.35L5.41 20z\"/>\n",
              "  </svg>\n",
              "      </button>\n",
              "      \n",
              "  <style>\n",
              "    .colab-df-container {\n",
              "      display:flex;\n",
              "      flex-wrap:wrap;\n",
              "      gap: 12px;\n",
              "    }\n",
              "\n",
              "    .colab-df-convert {\n",
              "      background-color: #E8F0FE;\n",
              "      border: none;\n",
              "      border-radius: 50%;\n",
              "      cursor: pointer;\n",
              "      display: none;\n",
              "      fill: #1967D2;\n",
              "      height: 32px;\n",
              "      padding: 0 0 0 0;\n",
              "      width: 32px;\n",
              "    }\n",
              "\n",
              "    .colab-df-convert:hover {\n",
              "      background-color: #E2EBFA;\n",
              "      box-shadow: 0px 1px 2px rgba(60, 64, 67, 0.3), 0px 1px 3px 1px rgba(60, 64, 67, 0.15);\n",
              "      fill: #174EA6;\n",
              "    }\n",
              "\n",
              "    [theme=dark] .colab-df-convert {\n",
              "      background-color: #3B4455;\n",
              "      fill: #D2E3FC;\n",
              "    }\n",
              "\n",
              "    [theme=dark] .colab-df-convert:hover {\n",
              "      background-color: #434B5C;\n",
              "      box-shadow: 0px 1px 3px 1px rgba(0, 0, 0, 0.15);\n",
              "      filter: drop-shadow(0px 1px 2px rgba(0, 0, 0, 0.3));\n",
              "      fill: #FFFFFF;\n",
              "    }\n",
              "  </style>\n",
              "\n",
              "      <script>\n",
              "        const buttonEl =\n",
              "          document.querySelector('#df-16e09cb8-ff22-42a9-b932-9b1a63fd7d47 button.colab-df-convert');\n",
              "        buttonEl.style.display =\n",
              "          google.colab.kernel.accessAllowed ? 'block' : 'none';\n",
              "\n",
              "        async function convertToInteractive(key) {\n",
              "          const element = document.querySelector('#df-16e09cb8-ff22-42a9-b932-9b1a63fd7d47');\n",
              "          const dataTable =\n",
              "            await google.colab.kernel.invokeFunction('convertToInteractive',\n",
              "                                                     [key], {});\n",
              "          if (!dataTable) return;\n",
              "\n",
              "          const docLinkHtml = 'Like what you see? Visit the ' +\n",
              "            '<a target=\"_blank\" href=https://colab.research.google.com/notebooks/data_table.ipynb>data table notebook</a>'\n",
              "            + ' to learn more about interactive tables.';\n",
              "          element.innerHTML = '';\n",
              "          dataTable['output_type'] = 'display_data';\n",
              "          await google.colab.output.renderOutput(dataTable, element);\n",
              "          const docLink = document.createElement('div');\n",
              "          docLink.innerHTML = docLinkHtml;\n",
              "          element.appendChild(docLink);\n",
              "        }\n",
              "      </script>\n",
              "    </div>\n",
              "  </div>\n",
              "  "
            ]
          },
          "metadata": {},
          "execution_count": 43
        }
      ]
    },
    {
      "cell_type": "code",
      "source": [
        "sns.heatmap(corr)"
      ],
      "metadata": {
        "id": "HUyrbArVKSah"
      },
      "execution_count": null,
      "outputs": []
    },
    {
      "cell_type": "code",
      "source": [
        "columns = np.full((corr.shape[0],), True, dtype=bool)\n",
        "for i in range(corr.shape[0]):\n",
        "    for j in range(i+1, corr.shape[0]):\n",
        "        if corr.iloc[i,j] >= 0.9:\n",
        "            if columns[j]:\n",
        "              columns[j] = False"
      ],
      "metadata": {
        "id": "OOIwfqItKW7R"
      },
      "execution_count": null,
      "outputs": []
    },
    {
      "cell_type": "code",
      "source": [
        "selected_columns = data.columns[columns]\n",
        "selected_columns.shape"
      ],
      "metadata": {
        "colab": {
          "base_uri": "https://localhost:8080/"
        },
        "id": "oxbomNJrKZjJ",
        "outputId": "c823bfbe-ab92-4a66-8ed6-536d880ddb44"
      },
      "execution_count": null,
      "outputs": [
        {
          "output_type": "execute_result",
          "data": {
            "text/plain": [
              "(2,)"
            ]
          },
          "metadata": {},
          "execution_count": 46
        }
      ]
    },
    {
      "cell_type": "code",
      "source": [
        "data = data[selected_columns]\n",
        "print(data)"
      ],
      "metadata": {
        "id": "gswboZ49KeXx"
      },
      "execution_count": null,
      "outputs": []
    },
    {
      "cell_type": "code",
      "source": [
        "import numpy as np\n",
        "import pandas as pd\n",
        "from sklearn.preprocessing import MinMaxScaler, StandardScaler\n",
        "exdata = pd.read_csv('/content/drive/MyDrive/Datasets/Exercise-CarData.csv')"
      ],
      "metadata": {
        "id": "upmq53D6KhT6"
      },
      "execution_count": null,
      "outputs": []
    },
    {
      "cell_type": "code",
      "source": [
        "X = exdata.iloc[:, 1:3].values\n",
        "Y = exdata.iloc[:, -1].values\n",
        "\n",
        "print(X, \"\\n\", Y)\n",
        "\n",
        "minmaxscaler = MinMaxScaler()\n",
        "x_min_max = minmaxscaler.fit_transform(X)\n",
        "print(x_min_max)\n",
        "\n",
        "std_scaler = StandardScaler()\n",
        "x_std = std_scaler.fit_transform(X)\n",
        "print(x_std)"
      ],
      "metadata": {
        "id": "ToGPgeu9KsIC"
      },
      "execution_count": null,
      "outputs": []
    },
    {
      "cell_type": "code",
      "source": [
        "import numpy as np\n",
        "import pandas as pd\n",
        "from sklearn.impute import SimpleImputer\n",
        "data = pd.read_csv('/content/drive/MyDrive/Datasets/Exercise-CarData.csv')\n",
        "print(\"\\nData :\\n\",data)\n",
        "print(\"\\nData statistics\\n\",data.describe())"
      ],
      "metadata": {
        "id": "ZSVEd13bLrCI"
      },
      "execution_count": null,
      "outputs": []
    },
    {
      "cell_type": "code",
      "source": [
        "X = data.iloc[:, :-1].values\n",
        "Y = data.iloc[:, -1].values\n",
        "print(\"\\n\\nInput : \\n\", X)\n",
        "print(\"\\n\\nOutput: \\n\", Y)\n",
        "\n",
        "data.dropna(axis=0,how='all',inplace=True)\n",
        "print(\"\\nNew Data :\",data)"
      ],
      "metadata": {
        "id": "v_MnzLFjLze4"
      },
      "execution_count": null,
      "outputs": []
    },
    {
      "cell_type": "code",
      "source": [
        "# features\n",
        "new_X = data.iloc[:, :-1].values\n",
        "# target\n",
        "new_Y = data.iloc[:, -1].values\n",
        "\n",
        "imputer = SimpleImputer(missing_values = np.nan,strategy = \"mean\")\n",
        "\n",
        "# Fitting the data, function learns the stats\n",
        "imputer = imputer.fit(new_X[:, 1:3])\n",
        "\n",
        "# fit_transform() will execute those stats on the input ie. X[:, 1:3]\n",
        "new_X[:, 1:3] = imputer.transform(new_X[:, 1:3])\n",
        "\n",
        "print(\"\\n\\nNew Input with Mean Value for NaN : \\n\\n\", new_X)"
      ],
      "metadata": {
        "colab": {
          "base_uri": "https://localhost:8080/"
        },
        "id": "acvFwrM_L84A",
        "outputId": "3bb8767c-10f8-4689-80ad-b645cbc9301e"
      },
      "execution_count": null,
      "outputs": [
        {
          "output_type": "stream",
          "name": "stdout",
          "text": [
            "\n",
            "\n",
            "New Input with Mean Value for NaN : \n",
            "\n",
            " [[0 13500.0 23.0 ... 0 2000 'three']\n",
            " [1 13750.0 23.0 ... 0 2000 '3']\n",
            " [2 13950.0 24.0 ... 0 2000 '3']\n",
            " ...\n",
            " [1433 8500.0 55.67215568862275 ... 0 1300 '3']\n",
            " [1434 7250.0 70.0 ... 0 1300 '3']\n",
            " [1435 6950.0 76.0 ... 0 1600 '5']]\n"
          ]
        }
      ]
    }
  ]
}