{
  "nbformat": 4,
  "nbformat_minor": 0,
  "metadata": {
    "colab": {
      "provenance": [],
      "mount_file_id": "1dlN9HI96qGyvdaMccsgRu6E-09zjgYEv",
      "authorship_tag": "ABX9TyOtLHA4Sis3byRmS/++BcEo",
      "include_colab_link": true
    },
    "kernelspec": {
      "name": "python3",
      "display_name": "Python 3"
    },
    "language_info": {
      "name": "python"
    }
  },
  "cells": [
    {
      "cell_type": "markdown",
      "metadata": {
        "id": "view-in-github",
        "colab_type": "text"
      },
      "source": [
        "<a href=\"https://colab.research.google.com/github/vivek201102/ML-Labs/blob/master/Lab_03.ipynb\" target=\"_parent\"><img src=\"https://colab.research.google.com/assets/colab-badge.svg\" alt=\"Open In Colab\"/></a>"
      ]
    },
    {
      "cell_type": "code",
      "execution_count": null,
      "metadata": {
        "id": "8nrEUJTPMtw-"
      },
      "outputs": [],
      "source": [
        "from sklearn import preprocessing\n",
        "from sklearn.naive_bayes import GaussianNB, MultinomialNB"
      ]
    },
    {
      "cell_type": "code",
      "source": [
        "weather = ['Sunny', 'Sunny', 'Overcast', 'Rainy', 'Rainy','Rainy', 'Overcast',\n",
        "'Sunny', 'Sunny', 'Rainy', 'Sunny', 'Overcast', 'Overcast', 'Rainy']\n",
        "\n",
        "temprature = ['Hot','Hot','Hot','Mild','Cool','Cool','Cool','Mild',\n",
        "'Cool','Mild','Mild','Mild','Hot','Mild']\n",
        "\n",
        "play=['No','No','Yes','Yes','Yes','No','Yes','No','Yes',\n",
        "'Yes','Yes','Yes','Yes','No']"
      ],
      "metadata": {
        "id": "nl4Q03wkNZaB"
      },
      "execution_count": null,
      "outputs": []
    },
    {
      "cell_type": "code",
      "source": [
        "le = preprocessing.LabelEncoder()\n",
        "weather_encoded=le.fit_transform(weather)\n",
        "temprature_encoded=le.fit_transform(temprature)\n",
        "play_encoded = le.fit_transform(play)"
      ],
      "metadata": {
        "id": "Mqopyn1tNluA"
      },
      "execution_count": null,
      "outputs": []
    },
    {
      "cell_type": "code",
      "source": [
        "features = list(zip(weather_encoded, temprature_encoded))\n",
        "model=MultinomialNB()\n",
        "model.fit(features,play_encoded)\n",
        "\n",
        "predicted= model.predict([[0,2]]) # 0:Overcast, 2:Mild\n",
        "print(\"Predicted Value:\", predicted)\n",
        "\n",
        "predicted= model.predict([[0,1]]) # 0:Overcast, 1:Hot\n",
        "print(\"Predicted Value:\", predicted)\n",
        "\n",
        "predicted= model.predict([[2,2]]) # 2:Overcast, 2:Hot\n",
        "print(\"Predicted Value:\", predicted)\n",
        "\n",
        "predicted= model.predict([[0,0]]) # 0:Overcast\n",
        "print(\"Predicted Value:\", predicted)"
      ],
      "metadata": {
        "id": "FEAKa8iOOCOI"
      },
      "execution_count": null,
      "outputs": []
    },
    {
      "cell_type": "markdown",
      "source": [
        "Exercise"
      ],
      "metadata": {
        "id": "inqV2edIQMQI"
      }
    },
    {
      "cell_type": "code",
      "source": [
        "# Will you play if the temperature is ‘Hot’ and weather is ‘overcast’?\n",
        "predicted= model.predict([[0,1]]) # 0:overcast, 1:hot\n",
        "print(\"Predicted Value:\", predicted)\n",
        "\n",
        "#Will you play if the temperature is ‘Mild’ and weather is ‘Sunny’?\n",
        "predicted= model.predict([[2,2]]) # 2:sunny, 2:mild \n",
        "print(\"Predicted Value:\", predicted)\n"
      ],
      "metadata": {
        "id": "GqVesHENQPEx"
      },
      "execution_count": null,
      "outputs": []
    },
    {
      "cell_type": "markdown",
      "source": [
        "Gaussian Naive Bayes"
      ],
      "metadata": {
        "id": "5h8XlaKsQmgh"
      }
    },
    {
      "cell_type": "code",
      "source": [
        "import numpy as np\n",
        "from sklearn import datasets\n",
        "from sklearn.naive_bayes import GaussianNB\n",
        "iris = datasets.load_iris()"
      ],
      "metadata": {
        "id": "fJojVGYaQsZw"
      },
      "execution_count": null,
      "outputs": []
    },
    {
      "cell_type": "code",
      "source": [
        "print(\"Features: \", iris.feature_names)\n",
        "print(\"Labels: \", iris.target_names)"
      ],
      "metadata": {
        "colab": {
          "base_uri": "https://localhost:8080/"
        },
        "id": "PZxQS8hHQxYH",
        "outputId": "c49eeaf4-3f2a-42e2-b787-f5033542c8bb"
      },
      "execution_count": null,
      "outputs": [
        {
          "output_type": "stream",
          "name": "stdout",
          "text": [
            "Features:  ['sepal length (cm)', 'sepal width (cm)', 'petal length (cm)', 'petal width (cm)']\n",
            "Labels:  ['setosa' 'versicolor' 'virginica']\n"
          ]
        }
      ]
    },
    {
      "cell_type": "code",
      "source": [
        "print(\"\\nData shape: \",iris.data.shape)\n",
        "print(\"\\nTraget shape: \",iris.target.shape)\n",
        "print(\"\\nData type: \",type(iris.data))\n",
        "newdata = iris.data[50:,:]\n",
        "newtarget = iris.target[50:]\n",
        "print(\"\\nNew Data shape: \",newdata.shape)\n",
        "print(\"\\nNew Traget shape: \",newtarget.shape)\n",
        "\n",
        "from sklearn.model_selection import train_test_split\n",
        "\n",
        "data_train, data_test, target_train, target_test = train_test_split(newdata,\n",
        "newtarget, test_size = 0.30, random_state = 5)"
      ],
      "metadata": {
        "colab": {
          "base_uri": "https://localhost:8080/"
        },
        "id": "jok4u9l3Q3Do",
        "outputId": "0ecf0100-57af-479a-e4cc-b4fa5be33f5e"
      },
      "execution_count": null,
      "outputs": [
        {
          "output_type": "stream",
          "name": "stdout",
          "text": [
            "\n",
            "Data shape:  (150, 4)\n",
            "\n",
            "Traget shape:  (150,)\n",
            "\n",
            "Data type:  <class 'numpy.ndarray'>\n",
            "\n",
            "New Data shape:  (100, 4)\n",
            "\n",
            "New Traget shape:  (100,)\n"
          ]
        }
      ]
    },
    {
      "cell_type": "code",
      "source": [
        "import numpy as np\n",
        "gnb = GaussianNB()\n",
        "gnb.fit(data_train, target_train)\n",
        "target_pred = gnb.predict(data_test)\n",
        "\n",
        "#Accuracy\n",
        "\n",
        "from sklearn import metrics\n",
        "from sklearn.metrics import confusion_matrix\n",
        "from sklearn.metrics import precision_score\n",
        "from sklearn.metrics import recall_score\n",
        "print(\"Accuracy:\",metrics.accuracy_score(target_test, target_pred))\n",
        "confusion_matrix(target_test, target_pred)\n",
        "\n",
        "precision = precision_score(target_test, target_pred)\n",
        "\n",
        "recall = recall_score(target_test, target_pred)\n",
        "\n",
        "print('precision: {}'.format(precision))\n",
        "\n",
        "print('recall: {}'.format(recall))\n",
        "\n"
      ],
      "metadata": {
        "colab": {
          "base_uri": "https://localhost:8080/"
        },
        "id": "9mfuQHebRCMQ",
        "outputId": "36644e2f-2b10-4741-dc25-9d1bf954aae2"
      },
      "execution_count": null,
      "outputs": [
        {
          "output_type": "stream",
          "name": "stdout",
          "text": [
            "Accuracy: 0.9\n",
            "precision: 0.8888888888888888\n",
            "recall: 0.9411764705882353\n"
          ]
        }
      ]
    },
    {
      "cell_type": "code",
      "source": [
        "from sklearn.model_selection import train_test_split\n",
        "\n",
        "data_train, data_test, target_train, target_test = train_test_split(iris.data,\n",
        "iris.target, test_size = 0.30, random_state = 10)\n",
        "\n",
        "from sklearn import metrics\n",
        "import numpy as np\n",
        "from sklearn.metrics import precision_score\n",
        "from sklearn.metrics import recall_score\n",
        "\n",
        "gnb = GaussianNB()\n",
        "gnb.fit(data_train, target_train)\n",
        "target_pred = gnb.predict(data_test)\n",
        "\n",
        "print(\"Accuracy:\",metrics.accuracy_score(target_test, target_pred))\n",
        "metrics.confusion_matrix(target_test, target_pred)\n",
        "\n",
        "precision = precision_score(target_test, target_pred, average=None)\n",
        "recall = recall_score(target_test, target_pred, average=None)\n",
        "print('precision: {}'.format(precision))\n",
        "print('recall: {}'.format(recall))"
      ],
      "metadata": {
        "colab": {
          "base_uri": "https://localhost:8080/"
        },
        "id": "L3uxU--NRlQw",
        "outputId": "5364fa4d-9ebf-4017-965e-3c71e2ee4d1f"
      },
      "execution_count": null,
      "outputs": [
        {
          "output_type": "stream",
          "name": "stdout",
          "text": [
            "Accuracy: 1.0\n",
            "precision: [1. 1. 1.]\n",
            "recall: [1. 1. 1.]\n"
          ]
        }
      ]
    },
    {
      "cell_type": "markdown",
      "source": [
        "New Topic"
      ],
      "metadata": {
        "id": "K0xTfuZ5SEwQ"
      }
    },
    {
      "cell_type": "code",
      "source": [
        "from sklearn import preprocessing\n",
        "from sklearn.naive_bayes import GaussianNB, MultinomialNB\n",
        "import pandas as pd\n",
        "data = pd.read_csv('/content/drive/MyDrive/Datasets/Dataset2.csv')\n",
        "print(\"\\nData :\\n\",data)"
      ],
      "metadata": {
        "id": "LBmgSm6TSHAX"
      },
      "execution_count": null,
      "outputs": []
    },
    {
      "cell_type": "code",
      "source": [
        "le = preprocessing.LabelEncoder()\n",
        "Outlook_encoded=le.fit_transform(data.Outlook)\n",
        "print(\"Outlook:\" ,Outlook_encoded)\n",
        "Temp_encoded=le.fit_transform(data.Temp)\n",
        "print(\"Temp:\",Temp_encoded)\n",
        "Wind_encoded=le.fit_transform(data.Wind)\n",
        "print(\"Wind:\" ,Wind_encoded)\n",
        "Humidity_encoded=le.fit_transform(data.Humidity)\n",
        "print(\"Humidity:\" ,Humidity_encoded)\n",
        "Target_encoded=le.fit_transform(data.Class)\n",
        "print(\"Class:\" ,Target_encoded)\n",
        "\n",
        "features=tuple(zip(Outlook_encoded,Temp_encoded,Wind_encoded,Humidity_encoded))\n",
        "print(\"Features:\",features)\n",
        "\n",
        "model=MultinomialNB()\n",
        "model.fit(features, Target_encoded)\n",
        "\n",
        "predicted= model.predict([[1,2,1,2]])\n",
        "print(\"Predicted Value:\", predicted)\n",
        "predicted= model.predict([[2,0,1,0]])\n",
        "print(\"Predicted Value:\", predicted)\n",
        "predicted= model.predict([[1,1,0,2]])\n",
        "print(\"Predicted Value:\", predicted)"
      ],
      "metadata": {
        "id": "8hyJ-aBwS53I"
      },
      "execution_count": null,
      "outputs": []
    },
    {
      "cell_type": "code",
      "source": [
        "dt=pd.read_csv('/content/drive/MyDrive/Datasets/Dataset2.csv')\n",
        "\n",
        "le = preprocessing.LabelEncoder()\n",
        "\n",
        "Outlook_encoded=le.fit_transform(dt.Outlook)\n",
        "print(\"Outlook:\" ,Outlook_encoded)\n",
        "Temp_encoded=le.fit_transform(dt.Temp)\n",
        "print(\"Temp:\",Temp_encoded)\n",
        "Wind_encoded=le.fit_transform(dt.Wind)\n",
        "print(\"Wind:\" ,Wind_encoded)\n",
        "Humidity_encoded=le.fit_transform(dt.Humidity)\n",
        "print(\"Humidity:\" ,Humidity_encoded)\n",
        "Class_encoded=le.fit_transform(dt.Class)\n",
        "print(\"Class:\" ,Class_encoded)\n",
        "\n",
        "features=tuple(zip(Outlook_encoded,Temp_encoded,Wind_encoded,Humidity_encoded))\n",
        "print(\"Features:\",features)"
      ],
      "metadata": {
        "id": "AUTN2zhAVty_"
      },
      "execution_count": null,
      "outputs": []
    },
    {
      "cell_type": "code",
      "source": [
        "from sklearn.model_selection import train_test_split\n",
        "data_train, data_test, target_train, target_test = train_test_split(features,Class_encoded, test_size = 0.25, random_state = 5)"
      ],
      "metadata": {
        "id": "FIIJ5nVxV0f_"
      },
      "execution_count": null,
      "outputs": []
    },
    {
      "cell_type": "code",
      "source": [
        "import numpy as np\n",
        "from sklearn.metrics import precision_score\n",
        "from sklearn.metrics import recall_score\n",
        "from sklearn.metrics import confusion_matrix\n",
        "from sklearn import metrics\n",
        "\n",
        "\n",
        "gnb = GaussianNB()\n",
        "gnb.fit(data_train, target_train)\n",
        "target_pred = gnb.predict(data_test)\n",
        "print(\"Accuracy:\",metrics.accuracy_score(target_test, target_pred))\n",
        "\n",
        "confusion_matrix(target_test, target_pred)\n",
        "\n",
        "\n",
        "precision = precision_score(target_test, target_pred, average=None)\n",
        "recall = recall_score(target_test, target_pred, average=None)\n",
        "print('precision: {}'.format(precision))\n",
        "print('recall: {}'.format(recall))"
      ],
      "metadata": {
        "id": "yUZCd8pEV4vW"
      },
      "execution_count": null,
      "outputs": []
    },
    {
      "cell_type": "code",
      "source": [
        "import numpy as np\n",
        "from sklearn import metrics\n",
        "from sklearn.metrics import confusion_matrix\n",
        "from sklearn.metrics import precision_score\n",
        "from sklearn.metrics import recall_score\n",
        "\n",
        "\n",
        "data_train, data_test, target_train, target_test = train_test_split(features,Class_encoded, test_size = 0.20, random_state = 5)\n",
        "\n",
        "gnb = GaussianNB()\n",
        "gnb.fit(data_train, target_train)\n",
        "\n",
        "target_pred = gnb.predict(data_test)\n",
        "\n",
        "print(\"Accuracy:\",metrics.accuracy_score(target_test, target_pred))\n",
        "print(confusion_matrix(target_test, target_pred))\n",
        "\n",
        "precision = precision_score(target_test, target_pred, average=None)\n",
        "recall = recall_score(target_test, target_pred, average=None)\n",
        "print('precision: {}'.format(precision))\n",
        "print('recall: {}'.format(recall))"
      ],
      "metadata": {
        "colab": {
          "base_uri": "https://localhost:8080/"
        },
        "id": "lNds6NP2WFEw",
        "outputId": "57b7279b-2947-491b-bb19-50ba3b7ff41c"
      },
      "execution_count": null,
      "outputs": [
        {
          "output_type": "stream",
          "name": "stdout",
          "text": [
            "Accuracy: 0.3333333333333333\n",
            "[[0 1]\n",
            " [1 1]]\n",
            "precision: [0.  0.5]\n",
            "recall: [0.  0.5]\n"
          ]
        }
      ]
    }
  ]
}